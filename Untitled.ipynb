{
 "cells": [
  {
   "cell_type": "code",
   "execution_count": 1,
   "id": "d13b2d44",
   "metadata": {},
   "outputs": [],
   "source": [
    "import numpy as np\n",
    "import cv2\n",
    "from keras import Sequential\n",
    "from keras.layers import Dense, Dropout, Flatten\n",
    "from keras.layers import Conv2D\n",
    "from keras.optimizers import Adam\n",
    "from keras.layers import MaxPooling2D\n",
    "from keras.preprocessing.image import ImageDataGenerator"
   ]
  },
  {
   "cell_type": "code",
   "execution_count": 2,
   "id": "865956a1",
   "metadata": {},
   "outputs": [],
   "source": [
    "train_dir = 'train'\n",
    "val_dir = 'test'"
   ]
  },
  {
   "cell_type": "code",
   "execution_count": 3,
   "id": "df334fb2",
   "metadata": {},
   "outputs": [
    {
     "name": "stdout",
     "output_type": "stream",
     "text": [
      "Found 28709 images belonging to 7 classes.\n",
      "Found 7178 images belonging to 7 classes.\n"
     ]
    }
   ],
   "source": [
    "train_datagen = ImageDataGenerator(rescale=1. / 255)\n",
    "val_datagen = ImageDataGenerator(rescale=1. / 255)\n",
    "\n",
    "train_generator = train_datagen.flow_from_directory(\n",
    "    train_dir,\n",
    "    target_size=(48, 48),\n",
    "    batch_size=64,\n",
    "    color_mode=\"grayscale\",\n",
    "    class_mode='categorical')\n",
    "\n",
    "validation_generator = val_datagen.flow_from_directory(\n",
    "    val_dir,\n",
    "    target_size=(48, 48),\n",
    "    batch_size=64,\n",
    "    color_mode=\"grayscale\",\n",
    "    class_mode='categorical')\n",
    "\n",
    "emotion_model = Sequential()\n",
    "\n",
    "emotion_model.add(Conv2D(32, kernel_size=(3, 3), activation='relu', input_shape=(48, 48, 1)))\n",
    "emotion_model.add(Conv2D(64, kernel_size=(3, 3), activation='relu'))\n",
    "emotion_model.add(MaxPooling2D(pool_size=(2, 2)))\n",
    "emotion_model.add(Dropout(0.25))\n",
    "\n",
    "emotion_model.add(Conv2D(128, kernel_size=(3, 3), activation='relu'))\n",
    "emotion_model.add(MaxPooling2D(pool_size=(2, 2)))\n",
    "emotion_model.add(Conv2D(128, kernel_size=(3, 3), activation='relu'))\n",
    "emotion_model.add(MaxPooling2D(pool_size=(2, 2)))\n",
    "emotion_model.add(Dropout(0.25))\n",
    "\n",
    "emotion_model.add(Flatten())\n",
    "emotion_model.add(Dense(1024, activation='relu'))\n",
    "emotion_model.add(Dropout(0.5))\n",
    "emotion_model.add(Dense(7, activation='softmax'))\n",
    "# emotion_model.load_weights('emotion_model.h5')\n",
    "\n",
    "cv2.ocl.setUseOpenCL(False)"
   ]
  },
  {
   "cell_type": "code",
   "execution_count": 4,
   "id": "66da6f1f",
   "metadata": {
    "scrolled": true
   },
   "outputs": [
    {
     "name": "stderr",
     "output_type": "stream",
     "text": [
      "C:\\Users\\user\\anaconda3\\envs\\FYP\\lib\\site-packages\\tensorflow\\python\\keras\\engine\\training.py:1844: UserWarning: `Model.fit_generator` is deprecated and will be removed in a future version. Please use `Model.fit`, which supports generators.\n",
      "  warnings.warn('`Model.fit_generator` is deprecated and '\n"
     ]
    },
    {
     "name": "stdout",
     "output_type": "stream",
     "text": [
      "Epoch 1/50\n",
      "448/448 [==============================] - 135s 300ms/step - loss: 1.8287 - accuracy: 0.2449 - val_loss: 1.7004 - val_accuracy: 0.3500\n",
      "Epoch 2/50\n",
      "448/448 [==============================] - 136s 304ms/step - loss: 1.6576 - accuracy: 0.3529 - val_loss: 1.5509 - val_accuracy: 0.4111\n",
      "Epoch 3/50\n",
      "448/448 [==============================] - 136s 303ms/step - loss: 1.5597 - accuracy: 0.4004 - val_loss: 1.4766 - val_accuracy: 0.4350\n",
      "Epoch 4/50\n",
      "448/448 [==============================] - 149s 334ms/step - loss: 1.4801 - accuracy: 0.4312 - val_loss: 1.4428 - val_accuracy: 0.4523\n",
      "Epoch 5/50\n",
      "448/448 [==============================] - 158s 353ms/step - loss: 1.4302 - accuracy: 0.4555 - val_loss: 1.3724 - val_accuracy: 0.4824\n",
      "Epoch 6/50\n",
      "448/448 [==============================] - 164s 366ms/step - loss: 1.3816 - accuracy: 0.4741 - val_loss: 1.3323 - val_accuracy: 0.4933\n",
      "Epoch 7/50\n",
      "448/448 [==============================] - 163s 365ms/step - loss: 1.3404 - accuracy: 0.4936 - val_loss: 1.3003 - val_accuracy: 0.5071\n",
      "Epoch 8/50\n",
      "448/448 [==============================] - 150s 335ms/step - loss: 1.3028 - accuracy: 0.5066 - val_loss: 1.2754 - val_accuracy: 0.5114\n",
      "Epoch 9/50\n",
      "448/448 [==============================] - 149s 333ms/step - loss: 1.2578 - accuracy: 0.5242 - val_loss: 1.2444 - val_accuracy: 0.5220\n",
      "Epoch 10/50\n",
      "448/448 [==============================] - 149s 333ms/step - loss: 1.2229 - accuracy: 0.5409 - val_loss: 1.2176 - val_accuracy: 0.5427\n",
      "Epoch 11/50\n",
      "448/448 [==============================] - 149s 332ms/step - loss: 1.1931 - accuracy: 0.5483 - val_loss: 1.2074 - val_accuracy: 0.5413\n",
      "Epoch 12/50\n",
      "448/448 [==============================] - 149s 333ms/step - loss: 1.1504 - accuracy: 0.5698 - val_loss: 1.1829 - val_accuracy: 0.5533\n",
      "Epoch 13/50\n",
      "448/448 [==============================] - 149s 333ms/step - loss: 1.1395 - accuracy: 0.5711 - val_loss: 1.1723 - val_accuracy: 0.5578\n",
      "Epoch 14/50\n",
      "448/448 [==============================] - 150s 335ms/step - loss: 1.1121 - accuracy: 0.5838 - val_loss: 1.1577 - val_accuracy: 0.5625\n",
      "Epoch 15/50\n",
      "448/448 [==============================] - 149s 332ms/step - loss: 1.0844 - accuracy: 0.5947 - val_loss: 1.1413 - val_accuracy: 0.5698\n",
      "Epoch 16/50\n",
      "448/448 [==============================] - 149s 332ms/step - loss: 1.0633 - accuracy: 0.6019 - val_loss: 1.1476 - val_accuracy: 0.5657\n",
      "Epoch 17/50\n",
      "448/448 [==============================] - 148s 330ms/step - loss: 1.0321 - accuracy: 0.6153 - val_loss: 1.1283 - val_accuracy: 0.5752\n",
      "Epoch 18/50\n",
      "448/448 [==============================] - 149s 332ms/step - loss: 0.9974 - accuracy: 0.6319 - val_loss: 1.1134 - val_accuracy: 0.5861\n",
      "Epoch 19/50\n",
      "448/448 [==============================] - 148s 329ms/step - loss: 0.9836 - accuracy: 0.6323 - val_loss: 1.1237 - val_accuracy: 0.5781\n",
      "Epoch 20/50\n",
      "448/448 [==============================] - 148s 331ms/step - loss: 0.9594 - accuracy: 0.6459 - val_loss: 1.1131 - val_accuracy: 0.5826\n",
      "Epoch 21/50\n",
      "448/448 [==============================] - 147s 329ms/step - loss: 0.9351 - accuracy: 0.6559 - val_loss: 1.0973 - val_accuracy: 0.5917\n",
      "Epoch 22/50\n",
      "448/448 [==============================] - 147s 329ms/step - loss: 0.9160 - accuracy: 0.6629 - val_loss: 1.1055 - val_accuracy: 0.5940\n",
      "Epoch 23/50\n",
      "448/448 [==============================] - 147s 328ms/step - loss: 0.8846 - accuracy: 0.6757 - val_loss: 1.1014 - val_accuracy: 0.5946\n",
      "Epoch 24/50\n",
      "448/448 [==============================] - 148s 331ms/step - loss: 0.8575 - accuracy: 0.6824 - val_loss: 1.0970 - val_accuracy: 0.6000\n",
      "Epoch 25/50\n",
      "448/448 [==============================] - 148s 329ms/step - loss: 0.8371 - accuracy: 0.6927 - val_loss: 1.0981 - val_accuracy: 0.5989\n",
      "Epoch 26/50\n",
      "448/448 [==============================] - 150s 335ms/step - loss: 0.8084 - accuracy: 0.7043 - val_loss: 1.1002 - val_accuracy: 0.6018\n",
      "Epoch 27/50\n",
      "448/448 [==============================] - 161s 359ms/step - loss: 0.7901 - accuracy: 0.7054 - val_loss: 1.0862 - val_accuracy: 0.6020\n",
      "Epoch 28/50\n",
      "448/448 [==============================] - 161s 359ms/step - loss: 0.7568 - accuracy: 0.7256 - val_loss: 1.0879 - val_accuracy: 0.6051\n",
      "Epoch 29/50\n",
      "448/448 [==============================] - 146s 327ms/step - loss: 0.7401 - accuracy: 0.7328 - val_loss: 1.1072 - val_accuracy: 0.6052\n",
      "Epoch 30/50\n",
      "448/448 [==============================] - 146s 327ms/step - loss: 0.7167 - accuracy: 0.7367 - val_loss: 1.1106 - val_accuracy: 0.6007\n",
      "Epoch 31/50\n",
      "448/448 [==============================] - 146s 326ms/step - loss: 0.6953 - accuracy: 0.7496 - val_loss: 1.1018 - val_accuracy: 0.6069\n",
      "Epoch 32/50\n",
      "448/448 [==============================] - 146s 326ms/step - loss: 0.6683 - accuracy: 0.7531 - val_loss: 1.1021 - val_accuracy: 0.6038\n",
      "Epoch 33/50\n",
      "448/448 [==============================] - 145s 324ms/step - loss: 0.6481 - accuracy: 0.7590 - val_loss: 1.1127 - val_accuracy: 0.6116\n",
      "Epoch 34/50\n",
      "448/448 [==============================] - 147s 328ms/step - loss: 0.6232 - accuracy: 0.7775 - val_loss: 1.1199 - val_accuracy: 0.6057\n",
      "Epoch 35/50\n",
      "448/448 [==============================] - 152s 338ms/step - loss: 0.6318 - accuracy: 0.7715 - val_loss: 1.1186 - val_accuracy: 0.6084\n",
      "Epoch 36/50\n",
      "448/448 [==============================] - 147s 329ms/step - loss: 0.5928 - accuracy: 0.7830 - val_loss: 1.1309 - val_accuracy: 0.6064\n",
      "Epoch 37/50\n",
      "448/448 [==============================] - 148s 330ms/step - loss: 0.5657 - accuracy: 0.7977 - val_loss: 1.1418 - val_accuracy: 0.6085\n",
      "Epoch 38/50\n",
      "448/448 [==============================] - 151s 337ms/step - loss: 0.5520 - accuracy: 0.8029 - val_loss: 1.1396 - val_accuracy: 0.6105\n",
      "Epoch 39/50\n",
      "448/448 [==============================] - 146s 325ms/step - loss: 0.5315 - accuracy: 0.8072 - val_loss: 1.1361 - val_accuracy: 0.6127\n",
      "Epoch 40/50\n",
      "448/448 [==============================] - 147s 328ms/step - loss: 0.5154 - accuracy: 0.8151 - val_loss: 1.1412 - val_accuracy: 0.6140\n",
      "Epoch 41/50\n",
      "448/448 [==============================] - 146s 326ms/step - loss: 0.4939 - accuracy: 0.8220 - val_loss: 1.1458 - val_accuracy: 0.6169\n",
      "Epoch 42/50\n",
      "448/448 [==============================] - 146s 326ms/step - loss: 0.4894 - accuracy: 0.8210 - val_loss: 1.1566 - val_accuracy: 0.6173\n",
      "Epoch 43/50\n",
      "448/448 [==============================] - 146s 325ms/step - loss: 0.4681 - accuracy: 0.8305 - val_loss: 1.1687 - val_accuracy: 0.6116\n",
      "Epoch 44/50\n",
      "448/448 [==============================] - 146s 326ms/step - loss: 0.4586 - accuracy: 0.8320 - val_loss: 1.1825 - val_accuracy: 0.6133\n",
      "Epoch 45/50\n",
      "448/448 [==============================] - 146s 326ms/step - loss: 0.4354 - accuracy: 0.8427 - val_loss: 1.1982 - val_accuracy: 0.6169\n",
      "Epoch 46/50\n",
      "448/448 [==============================] - 146s 327ms/step - loss: 0.4138 - accuracy: 0.8513 - val_loss: 1.1911 - val_accuracy: 0.6173\n",
      "Epoch 47/50\n",
      "448/448 [==============================] - 145s 324ms/step - loss: 0.4234 - accuracy: 0.8526 - val_loss: 1.1940 - val_accuracy: 0.6147\n",
      "Epoch 48/50\n",
      "448/448 [==============================] - 146s 327ms/step - loss: 0.3928 - accuracy: 0.8565 - val_loss: 1.1940 - val_accuracy: 0.6184\n",
      "Epoch 49/50\n",
      "448/448 [==============================] - 147s 327ms/step - loss: 0.3846 - accuracy: 0.8618 - val_loss: 1.2053 - val_accuracy: 0.6084\n",
      "Epoch 50/50\n",
      "448/448 [==============================] - 146s 326ms/step - loss: 0.3754 - accuracy: 0.8654 - val_loss: 1.2526 - val_accuracy: 0.6084\n"
     ]
    }
   ],
   "source": [
    "emotion_dict = {0: \"Angry\", 1: \"Disgusted\", 2: \"Fearful\", 3: \"Happy\", 4: \"Neutral\", 5: \"Sad\", 6: \"Surprised\"}\n",
    "\n",
    "emotion_model.compile(loss='categorical_crossentropy', optimizer=Adam(lr=0.0001, decay=1e-6), metrics=['accuracy'])\n",
    "emotion_model_info = emotion_model.fit_generator(\n",
    "    train_generator,\n",
    "    steps_per_epoch=28709 // 64,\n",
    "    epochs=50,\n",
    "    validation_data=validation_generator,\n",
    "    validation_steps=7178 // 64)"
   ]
  },
  {
   "cell_type": "code",
   "execution_count": 6,
   "id": "96b44ae7",
   "metadata": {},
   "outputs": [],
   "source": [
    "emotion_model.save_weights('emotion_model4.h5')"
   ]
  },
  {
   "cell_type": "code",
   "execution_count": 7,
   "id": "2dd59119",
   "metadata": {},
   "outputs": [
    {
     "ename": "KeyboardInterrupt",
     "evalue": "",
     "output_type": "error",
     "traceback": [
      "\u001b[1;31m---------------------------------------------------------------------------\u001b[0m",
      "\u001b[1;31mKeyboardInterrupt\u001b[0m                         Traceback (most recent call last)",
      "\u001b[1;32m<ipython-input-7-5621f5e9c78b>\u001b[0m in \u001b[0;36m<module>\u001b[1;34m\u001b[0m\n\u001b[0;32m      6\u001b[0m     \u001b[1;32mif\u001b[0m \u001b[1;32mnot\u001b[0m \u001b[0mret\u001b[0m\u001b[1;33m:\u001b[0m\u001b[1;33m\u001b[0m\u001b[0m\n\u001b[0;32m      7\u001b[0m         \u001b[1;32mbreak\u001b[0m\u001b[1;33m\u001b[0m\u001b[0m\n\u001b[1;32m----> 8\u001b[1;33m     \u001b[0mbounding_box\u001b[0m \u001b[1;33m=\u001b[0m \u001b[0mcv2\u001b[0m\u001b[1;33m.\u001b[0m\u001b[0mCascadeClassifier\u001b[0m\u001b[1;33m(\u001b[0m\u001b[1;34m'haarcascade_frontalface_defaultt.xml'\u001b[0m\u001b[1;33m)\u001b[0m\u001b[1;33m\u001b[0m\u001b[0m\n\u001b[0m\u001b[0;32m      9\u001b[0m     \u001b[0mgray_frame\u001b[0m \u001b[1;33m=\u001b[0m \u001b[0mcv2\u001b[0m\u001b[1;33m.\u001b[0m\u001b[0mcvtColor\u001b[0m\u001b[1;33m(\u001b[0m\u001b[0mframe\u001b[0m\u001b[1;33m,\u001b[0m \u001b[0mcv2\u001b[0m\u001b[1;33m.\u001b[0m\u001b[0mCOLOR_BGR2GRAY\u001b[0m\u001b[1;33m)\u001b[0m\u001b[1;33m\u001b[0m\u001b[0m\n\u001b[0;32m     10\u001b[0m     \u001b[0mnum_faces\u001b[0m \u001b[1;33m=\u001b[0m \u001b[0mbounding_box\u001b[0m\u001b[1;33m.\u001b[0m\u001b[0mdetectMultiScale\u001b[0m\u001b[1;33m(\u001b[0m\u001b[0mgray_frame\u001b[0m\u001b[1;33m,\u001b[0m \u001b[0mscaleFactor\u001b[0m\u001b[1;33m=\u001b[0m\u001b[1;36m1.3\u001b[0m\u001b[1;33m,\u001b[0m \u001b[0mminNeighbors\u001b[0m\u001b[1;33m=\u001b[0m\u001b[1;36m5\u001b[0m\u001b[1;33m)\u001b[0m\u001b[1;33m\u001b[0m\u001b[0m\n",
      "\u001b[1;31mKeyboardInterrupt\u001b[0m: "
     ]
    }
   ],
   "source": [
    "# start the webcam feed\n",
    "cap = cv2.VideoCapture(0)\n",
    "while True:\n",
    "    # Find haar cascade to draw bounding box around face\n",
    "    ret, frame = cap.read()\n",
    "    if not ret:\n",
    "        break\n",
    "    bounding_box = cv2.CascadeClassifier('haarcascade_frontalface_defaultt.xml')\n",
    "    gray_frame = cv2.cvtColor(frame, cv2.COLOR_BGR2GRAY)\n",
    "    num_faces = bounding_box.detectMultiScale(gray_frame, scaleFactor=1.3, minNeighbors=5)\n",
    "\n",
    "    for (x, y, w, h) in num_faces:\n",
    "        cv2.rectangle(frame, (x, y - 50), (x + w, y + h + 10), (255, 0, 0), 2)\n",
    "        roi_gray_frame = gray_frame[y:y + h, x:x + w]\n",
    "        cropped_img = np.expand_dims(np.expand_dims(cv2.resize(roi_gray_frame, (48, 48)), -1), 0)\n",
    "        emotion_prediction = emotion_model.predict(cropped_img)\n",
    "        maxindex = int(np.argmax(emotion_prediction))\n",
    "        cv2.putText(frame, emotion_dict[maxindex], (x + 20, y - 60), cv2.FONT_HERSHEY_SIMPLEX, 1, (255, 255, 255), 2,\n",
    "                    cv2.LINE_AA)\n",
    "\n",
    "    cv2.imshow('Video', cv2.resize(frame, (1200, 860), interpolation=cv2.INTER_CUBIC))\n",
    "    if cv2.waitKey(1) & 0xFF == ord('q'):\n",
    "        break\n",
    "\n",
    "cap.release()\n",
    "cv2.destroyAllWindows()"
   ]
  },
  {
   "cell_type": "code",
   "execution_count": null,
   "id": "1ae7ddcb",
   "metadata": {},
   "outputs": [],
   "source": []
  }
 ],
 "metadata": {
  "kernelspec": {
   "display_name": "Python 3",
   "language": "python",
   "name": "python3"
  },
  "language_info": {
   "codemirror_mode": {
    "name": "ipython",
    "version": 3
   },
   "file_extension": ".py",
   "mimetype": "text/x-python",
   "name": "python",
   "nbconvert_exporter": "python",
   "pygments_lexer": "ipython3",
   "version": "3.7.0"
  }
 },
 "nbformat": 4,
 "nbformat_minor": 5
}
